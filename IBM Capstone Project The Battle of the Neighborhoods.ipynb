{
 "cells": [
  {
   "cell_type": "markdown",
   "metadata": {},
   "source": [
    "# IBM Capstone Project: The Battle of the Neighborhoods"
   ]
  },
  {
   "cell_type": "markdown",
   "metadata": {},
   "source": [
    "## Open new Park in Toronto"
   ]
  },
  {
   "cell_type": "markdown",
   "metadata": {},
   "source": [
    "<h2>Introduction/Business Problem </h2>"
   ]
  },
  {
   "cell_type": "markdown",
   "metadata": {},
   "source": [
    "##### Introduction\n",
    "Toronto is the provincial capital of Ontario and the most populous city in Canada, with a population of 2,731,571 in 2016. Current to 2016, the Toronto census metropolitan area (CMA), of which the majority is within the Greater Toronto Area (GTA), held a population of 5,928,040, making it Canada's most populous CMA. The city is the anchor of the Golden Horseshoe, an urban agglomeration of 9,245,438 people (as of 2016) surrounding the western end of Lake Ontario."
   ]
  },
  {
   "cell_type": "markdown",
   "metadata": {},
   "source": [
    "##### Business Problem\n",
    "Toronto is an international center of business, finance, arts, and culture, and is recognized as one of the most multicultural and cosmopolitan cities in the world.\n",
    "So A group of investors is looking to open an new Park in Toronto, and ask to recommend where to open? \n",
    "##### In this Project We should look for a best place where we have a maximum of Population and the minimum of Park around."
   ]
  },
  {
   "cell_type": "markdown",
   "metadata": {},
   "source": [
    "<h2>Data Section</h2>\n",
    "Here we will use Open Source data from Wikipedia to get Demographic Data : https://en.wikipedia.org/wiki/Demographics_of_Toronto_neighbourhoods and Foursquare API to get all geographic information about Neighbourhoods by folowwing these Steps \n",
    "\n",
    "\n",
    "<div class=\"alert alert-block alert-info\" style=\"margin-top: 20px\">\n",
    "<ol>\n",
    "    <li><a href=\"#1\">1- Scrapping Wikipedia to get Toronto Demographic Data and Focus on Population Only</a></li>\n",
    "    <li><a href=\"#2\">2- Geocoding our Dataset using the name of each District to be used in Foursquare API</a></li>\n",
    "    <li><a href=\"#3\">3- Using the Foursquare API to explore toronto Districts to get venues.</a></li>\n",
    "    <li><a href=\"#4\">4- Analyzing our Data, cleaning, and Featuring (like getting the number of Parks in each District)</a></li>\n",
    "    <li><a href=\"#5\">5- Clustering Districts using k-means clustering to choose in which cluster we will choose our district</a></li>\n",
    "    <li><a href=\"#6\">6- Using the Folium library to visualize the neighborhoods, venues , clusters in toronto</a></li>\n",
    "</ol>\n",
    "    \n",
    "Estimated Time Needed: <strong>10 hours</strong>\n",
    "</div>\n",
    " \n",
    "<hr>"
   ]
  },
  {
   "cell_type": "code",
   "execution_count": null,
   "metadata": {},
   "outputs": [],
   "source": []
  }
 ],
 "metadata": {
  "kernelspec": {
   "display_name": "Python",
   "language": "python",
   "name": "conda-env-python-py"
  },
  "language_info": {
   "codemirror_mode": {
    "name": "ipython",
    "version": 3
   },
   "file_extension": ".py",
   "mimetype": "text/x-python",
   "name": "python",
   "nbconvert_exporter": "python",
   "pygments_lexer": "ipython3",
   "version": "3.6.10"
  }
 },
 "nbformat": 4,
 "nbformat_minor": 4
}
